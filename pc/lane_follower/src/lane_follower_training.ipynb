{
  "nbformat": 4,
  "nbformat_minor": 0,
  "metadata": {
    "colab": {
      "name": "lane_follower.ipynb",
      "provenance": [],
      "collapsed_sections": []
    },
    "kernelspec": {
      "name": "python3",
      "display_name": "Python 3"
    },
    "accelerator": "GPU"
  },
  "cells": [
    {
      "cell_type": "code",
      "metadata": {
        "id": "roOhszO5bhxO"
      },
      "source": [
        "cd /content/drive/My\\ Drive/lane_follower"
      ],
      "execution_count": null,
      "outputs": []
    },
    {
      "cell_type": "code",
      "metadata": {
        "id": "sXnDmXR7RDr2"
      },
      "source": [
        "%tensorflow_version 1.x\n",
        "import tensorflow as tf\n",
        "device_name = tf.test.gpu_device_name()\n",
        "if device_name != '/device:GPU:0':\n",
        "  raise SystemError('GPU device not found')\n",
        "print('Found GPU at: {}'.format(device_name))\n",
        "print(tf.__version__)"
      ],
      "execution_count": null,
      "outputs": []
    },
    {
      "cell_type": "code",
      "metadata": {
        "id": "92h-8tXPaoL3"
      },
      "source": [
        "\n",
        "import cv2\n",
        "import time\n",
        "import os\n",
        "import pandas as pd\n",
        "import numpy as np\n",
        "from numpy import array\n",
        "from tqdm import tqdm\n",
        "from collections import deque\n",
        "from random import shuffle\n",
        "import tflearn\n",
        "from google.colab.patches import cv2_imshow"
      ],
      "execution_count": null,
      "outputs": []
    },
    {
      "cell_type": "code",
      "metadata": {
        "id": "xoDVNSDhGacO",
        "outputId": "e19e2bcd-58ab-490a-9ca7-87d8a488f4bb",
        "colab": {
          "base_uri": "https://localhost:8080/",
          "height": 34
        }
      },
      "source": [
        "from collections import Counter\n",
        "from random import shuffle\n",
        "HEIGHT = 100\n",
        "WIDTH = 150\n",
        "lr = 1e-3\n",
        "td = []\n",
        "image_1 = np.load('training_data/data_image.npy')\n",
        "value_1 = np.load('training_data/data_value.npy')\n",
        "image_2 = np.load('training_data/data_image_2.npy')\n",
        "value_2 = np.load('training_data/data_value_2.npy')\n",
        "image = np.concatenate((image_1, image_2), axis=0)\n",
        "value = np.concatenate((value_1, value_2), axis=0)\n",
        "print(image.shape)"
      ],
      "execution_count": 11,
      "outputs": [
        {
          "output_type": "stream",
          "text": [
            "(40002, 100, 150)\n"
          ],
          "name": "stdout"
        }
      ]
    },
    {
      "cell_type": "code",
      "metadata": {
        "id": "QWtk0mCXGgfc"
      },
      "source": [
        "choice = []\n",
        "for i in range(len(value)):\n",
        "  if (value[i]==[2,0]).all():\n",
        "    choice.append([1,0,0,0])\n",
        "    #print(choice[i])\n",
        "  elif (value[i]==[0,2]).all():\n",
        "    choice.append([0,1,0,0])\n",
        "    #print(choice[i])\n",
        "  elif (value[i]==[0,-2]).all():\n",
        "    choice.append([0,0,1,0])\n",
        "    #print(choice[i])\n",
        "  elif (value[i]==[0,0]).all():\n",
        "    choice.append([0,0,0,1])\n",
        "    #print(choice[i])\n",
        "  else:\n",
        "    print(\"error\")"
      ],
      "execution_count": 13,
      "outputs": []
    },
    {
      "cell_type": "code",
      "metadata": {
        "id": "vMcB-a15x-qP"
      },
      "source": [
        "for i in range(len(image)):\n",
        "  td.append([image[i],choice[i]])\n",
        "df = pd.DataFrame(td)\n",
        "print(Counter(df[1].apply(str)))\n",
        "Left = []\n",
        "Right = []\n",
        "Front = []\n",
        "for data in td:\n",
        "  image = data[0]\n",
        "  value = data[1]\n",
        "  #print(value)\n",
        "  if (value == [1,0,0,0]):\n",
        "    Front.append([image,value])\n",
        "  elif (value == [0,0,1,0]):\n",
        "    Right.append([image,value])\n",
        "  elif (value == [0,1,0,0]):\n",
        "    Left.append([image,value])\n",
        "  else:\n",
        "    pass\n",
        "\n",
        "#print(len(Front))\n",
        "Front = Front[:5000]\n",
        "final_data = np.array(Front+Left+Right)\n",
        "shuffle(final_data)\n",
        "print(final_data.shape)"
      ],
      "execution_count": null,
      "outputs": []
    },
    {
      "cell_type": "code",
      "metadata": {
        "id": "0goeINW-wirg"
      },
      "source": [
        "train = final_data[:-500,:]\n",
        "test=final_data[-500:,:]\n",
        "print(train.shape)\n",
        "X = np.array([i[0] for i in train]).reshape(-1,WIDTH,HEIGHT,1)\n",
        "Y = [i[1] for i in train]\n",
        "test_x = np.array([i[0] for i in test]).reshape(-1,WIDTH,HEIGHT,1)\n",
        "test_y = [i[1] for i in test]\n",
        "print(X[1].shape)"
      ],
      "execution_count": null,
      "outputs": []
    },
    {
      "cell_type": "code",
      "metadata": {
        "id": "1ESMJTVf6Czy"
      },
      "source": [
        "from models import alexnet2\n",
        "model = alexnet2(WIDTH,HEIGHT,lr,output=4)\n",
        "model.fit({'input': X}, {'targets': Y}, n_epoch=1, validation_set=({'input': test_x}, {'targets': test_y}), \n",
        "                snapshot_step=2500, show_metric=True)"
      ],
      "execution_count": null,
      "outputs": []
    },
    {
      "cell_type": "code",
      "metadata": {
        "id": "h-Tc2d6X2goW"
      },
      "source": [
        "images = np.load('training_data/data_image_2.npy')\n",
        "value = np.load('training_data/data_value_2.npy')\n",
        "choice = []\n",
        "for i in range(len(value)):\n",
        "  if (value[i]==[2,0]).all():\n",
        "    choice.append([1,0,0,0])\n",
        "    #print(choice[i])\n",
        "  elif (value[i]==[0,2]).all():\n",
        "    choice.append([0,1,0,0])\n",
        "    #print(choice[i])\n",
        "  elif (value[i]==[0,-2]).all():\n",
        "    choice.append([0,0,1,0])\n",
        "    #print(choice[i])\n",
        "  elif (value[i]==[0,0]).all():\n",
        "    choice.append([0,0,0,1])\n",
        "    #print(choice[i])\n",
        "  else:\n",
        "    print(\"error\")"
      ],
      "execution_count": 19,
      "outputs": []
    },
    {
      "cell_type": "code",
      "metadata": {
        "id": "ASsLL5Gb5tj0"
      },
      "source": [
        "correct = 0\n",
        "Left = []\n",
        "Right = []\n",
        "Front = []\n",
        "\n",
        "for i in range(len(choice)):\n",
        "  if (choice[i] == [1,0,0,0]):\n",
        "    Front.append([images[i],choice[i]])\n",
        "  elif (choice[i] == [0,0,1,0]):\n",
        "    Right.append([images[i],choice[i]])\n",
        "  elif (choice[i] == [0,1,0,0]):\n",
        "    Left.append([images[i],choice[i]])\n",
        "  else:\n",
        "    pass\n",
        "\n",
        "\n",
        "required = Left + Right\n",
        "X = np.array([i[0] for i in required])\n",
        "for i in range(1745):\n",
        "  im = X[i].reshape(150,100,1)\n",
        "  prediction = np.array(model.predict([im]))\n",
        "  prediction = (prediction > 0.5)*1\n",
        "  #print(prediction[0])\n",
        "  if (prediction[0] == choice[i]).all():\n",
        "    print(\"correct\")\n",
        "    correct+=1\n",
        "  else:\n",
        "    print(\"u r fucked\")\n",
        "print(correct)\n",
        "print(X.shape)"
      ],
      "execution_count": null,
      "outputs": []
    },
    {
      "cell_type": "code",
      "metadata": {
        "id": "n5YoJTD6_Ib_"
      },
      "source": [
        "print(X.shape)\n",
        "print(len(required))\n",
        "model.save(\"final_2.model\")"
      ],
      "execution_count": null,
      "outputs": []
    }
  ]
}